{
 "cells": [
  {
   "cell_type": "markdown",
   "id": "b44da952",
   "metadata": {},
   "source": [
    "# Building Data Products: Interactive Web Apps \n",
    "\n",
    "# Saving and Loading Models"
   ]
  },
  {
   "cell_type": "markdown",
   "id": "62c40b8c",
   "metadata": {},
   "source": [
    "## Setup"
   ]
  },
  {
   "cell_type": "markdown",
   "id": "27b14bdd",
   "metadata": {},
   "source": [
    "#### FOR GOOGLE COLLAB USERS ONLY: Mount Drive"
   ]
  },
  {
   "cell_type": "code",
   "execution_count": null,
   "id": "9b0a5b9b",
   "metadata": {},
   "outputs": [],
   "source": [
    "from google.colab import drive\n",
    "drive.mount('/content/drive')"
   ]
  },
  {
   "cell_type": "code",
   "execution_count": null,
   "id": "5f865681",
   "metadata": {},
   "outputs": [],
   "source": [
    "path = \"drive/My Drive/Colab Notebooks/Lehre/CourseModules/DataProducts/\""
   ]
  },
  {
   "cell_type": "markdown",
   "id": "2913f906",
   "metadata": {},
   "source": [
    "#### FOR ANACONDA USERS ONLY: Define local path"
   ]
  },
  {
   "cell_type": "code",
   "execution_count": null,
   "id": "ac76a606",
   "metadata": {},
   "outputs": [],
   "source": [
    "path = 'D:/OneDrive - Universität St.Gallen/Lehre/CourseModules/DataProducts/'"
   ]
  },
  {
   "cell_type": "markdown",
   "id": "fe128ad6",
   "metadata": {},
   "source": [
    "## Preparation"
   ]
  },
  {
   "cell_type": "markdown",
   "id": "5a6df426",
   "metadata": {},
   "source": [
    "### Import Standard Libraries"
   ]
  },
  {
   "cell_type": "code",
   "execution_count": null,
   "id": "a0ee3e4d",
   "metadata": {},
   "outputs": [],
   "source": [
    "import pandas as pd\n",
    "from sklearn.tree import DecisionTreeClassifier\n",
    "from sklearn.model_selection import train_test_split"
   ]
  },
  {
   "cell_type": "markdown",
   "id": "584b025f",
   "metadata": {},
   "source": [
    "### Import and Prepare Data"
   ]
  },
  {
   "cell_type": "code",
   "execution_count": null,
   "id": "530a4c37",
   "metadata": {},
   "outputs": [],
   "source": [
    "data = pd.read_csv(path + \"prosper_data_app.csv\")"
   ]
  },
  {
   "cell_type": "code",
   "execution_count": null,
   "id": "697693a9",
   "metadata": {},
   "outputs": [],
   "source": [
    "y = data[\"loan_default\"]\n",
    "X = data.drop(\"loan_default\",axis=1)\n",
    "X = pd.get_dummies(X, drop_first=True)\n",
    "X.info()"
   ]
  },
  {
   "cell_type": "markdown",
   "id": "a15c74fb",
   "metadata": {},
   "source": [
    "## Train & Save Model"
   ]
  },
  {
   "cell_type": "markdown",
   "id": "d53e0f79",
   "metadata": {},
   "source": [
    "### Train Model"
   ]
  },
  {
   "cell_type": "code",
   "execution_count": null,
   "id": "8aa97a28",
   "metadata": {},
   "outputs": [],
   "source": [
    "X_train, X_test, y_train, y_test = train_test_split(X, y, test_size=0.05)\n",
    "\n",
    "clf = DecisionTreeClassifier().fit(X_train,y_train)"
   ]
  },
  {
   "cell_type": "markdown",
   "id": "acde99ca",
   "metadata": {},
   "source": [
    "### Save Test and Training Instances"
   ]
  },
  {
   "cell_type": "code",
   "execution_count": null,
   "id": "b9f74277",
   "metadata": {},
   "outputs": [],
   "source": [
    "data.iloc[X_train.index,:].to_csv(\"prosper_data_app_dev.csv\", index=False)\n",
    "data.iloc[X_test.index,:].drop(\"loan_default\", axis=1).to_csv(\"new_customers.csv\", index=False)"
   ]
  },
  {
   "cell_type": "markdown",
   "id": "4221b937",
   "metadata": {},
   "source": [
    "### Save Model"
   ]
  },
  {
   "cell_type": "code",
   "execution_count": null,
   "id": "ec369aac",
   "metadata": {},
   "outputs": [],
   "source": [
    "import pickle\n",
    "filename = 'finalized_default_model.sav'\n",
    "pickle.dump(clf, open(filename, 'wb'))"
   ]
  },
  {
   "cell_type": "markdown",
   "id": "ffd41b84",
   "metadata": {},
   "source": [
    "## Load Model & Score New Data"
   ]
  },
  {
   "cell_type": "markdown",
   "id": "32c4d002",
   "metadata": {},
   "source": [
    "### Read and Pre-Process \"New Customer\" Data"
   ]
  },
  {
   "cell_type": "code",
   "execution_count": null,
   "id": "9a32583e",
   "metadata": {},
   "outputs": [],
   "source": [
    "new_customers = pd.read_csv(\"new_customers.csv\")\n",
    "new_customers = pd.get_dummies(new_customers, drop_first=True)\n",
    "new_customers"
   ]
  },
  {
   "cell_type": "markdown",
   "id": "48d748fa",
   "metadata": {},
   "source": [
    "### Load Model and Score \"New Customer\" Data"
   ]
  },
  {
   "cell_type": "code",
   "execution_count": null,
   "id": "9ee258f1",
   "metadata": {},
   "outputs": [],
   "source": [
    "loaded_model = pickle.load(open(filename, 'rb'))\n",
    "loaded_model.predict(new_customers)"
   ]
  }
 ],
 "metadata": {
  "kernelspec": {
   "display_name": "Python 3 (ipykernel)",
   "language": "python",
   "name": "python3"
  },
  "language_info": {
   "codemirror_mode": {
    "name": "ipython",
    "version": 3
   },
   "file_extension": ".py",
   "mimetype": "text/x-python",
   "name": "python",
   "nbconvert_exporter": "python",
   "pygments_lexer": "ipython3",
   "version": "3.8.12"
  }
 },
 "nbformat": 4,
 "nbformat_minor": 5
}
